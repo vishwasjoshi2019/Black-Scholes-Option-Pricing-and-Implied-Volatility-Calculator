
import numpy as np
from scipy.stats import norm

N_prime = norm.pdf
N = norm.cdf
N = norm.cdf
def black_scholes_call(S, K, T, r, sigma):
    '''
    :param S: Asset price
    :param K: Strike price
    :param T: Time to maturity
    :param r: risk-free rate (treasury bills)
    :param sigma: volatility
    :return: call price
    '''
    ###standard black-scholes formula
    d1 = (np.log(S / K) + (r + sigma ** 2 / 2) * T) / (sigma * np.sqrt(T))
    d2 = d1 - sigma * np.sqrt(T)

    call = S * N(d1) -  N(d2)* K * np.exp(-r * T)
    return call

def black_scholes_put(S,K,T,r,sigma):

    return K*np.exp(-r*T)-S+black_scholes_call(S,K,T,r,sigma)


def implied_volatility(S,K,T,r,observed_price,opt):
    high=5
    low=0
    if(opt==1):
        while high-low>0.0001:
            if black_scholes_call(S, K, T, r, (high+low)/2)>observed_price:
                high=(high+low)/2
            else:
                low=(high+low)/2
        return (high+low)/2
    
    elif opt==-1:
        while high-low>0.0001:
            if black_scholes_put(S, K, T, r, (high+low)/2)>observed_price:
                high=(high+low)/2
                print(high)
            else:
                low=(high+low)/2
                print(low)
        return (high+low)/2


implied_volatility(15325,15350,3.08,0,143,1)
