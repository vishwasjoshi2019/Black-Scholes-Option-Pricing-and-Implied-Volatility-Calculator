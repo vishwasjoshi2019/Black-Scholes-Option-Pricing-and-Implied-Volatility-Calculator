{
  "nbformat": 4,
  "nbformat_minor": 0,
  "metadata": {
    "colab": {
      "provenance": [],
      "authorship_tag": "ABX9TyOVpzxlZhtA3iFXOfov8znd",
      "include_colab_link": true
    },
    "kernelspec": {
      "name": "python3",
      "display_name": "Python 3"
    },
    "language_info": {
      "name": "python"
    }
  },
  "cells": [
    {
      "cell_type": "markdown",
      "metadata": {
        "id": "view-in-github",
        "colab_type": "text"
      },
      "source": [
        "<a href=\"https://colab.research.google.com/github/vishwasjoshi2019/Black-Scholes-Option-Pricing-and-Implied-Volatility-Calculator/blob/main/BS_option_and_IV.ipynb\" target=\"_parent\"><img src=\"https://colab.research.google.com/assets/colab-badge.svg\" alt=\"Open In Colab\"/></a>"
      ]
    },
    {
      "cell_type": "code",
      "source": [],
      "metadata": {
        "id": "Y2sVHCPXA6tN"
      },
      "execution_count": null,
      "outputs": []
    },
    {
      "cell_type": "code",
      "execution_count": null,
      "metadata": {
        "colab": {
          "base_uri": "https://localhost:8080/"
        },
        "id": "2PrpCXJIA0dn",
        "outputId": "d10b9e38-c24b-47de-f014-293a815ead2f"
      },
      "outputs": [
        {
          "output_type": "execute_result",
          "data": {
            "text/plain": [
              "0.01445770263671875"
            ]
          },
          "metadata": {},
          "execution_count": 4
        }
      ],
      "source": [
        "\n",
        "import numpy as np\n",
        "from scipy.stats import norm\n",
        "\n",
        "N_prime = norm.pdf\n",
        "N = norm.cdf\n",
        "N = norm.cdf\n",
        "def black_scholes_call(S, K, T, r, sigma):\n",
        "    '''\n",
        "    :param S: Asset price\n",
        "    :param K: Strike price\n",
        "    :param T: Time to maturity\n",
        "    :param r: risk-free rate (treasury bills)\n",
        "    :param sigma: volatility\n",
        "    :return: call price\n",
        "    '''\n",
        "    ###standard black-scholes formula\n",
        "    d1 = (np.log(S / K) + (r + sigma ** 2 / 2) * T) / (sigma * np.sqrt(T))\n",
        "    d2 = d1 - sigma * np.sqrt(T)\n",
        "\n",
        "    call = S * N(d1) -  N(d2)* K * np.exp(-r * T)\n",
        "    return call\n",
        "\n",
        "def black_scholes_put(S,K,T,r,sigma):\n",
        "\n",
        "    return K*np.exp(-r*T)-S+black_scholes_call(S,K,T,r,sigma)\n",
        "\n",
        "\n",
        "def implied_volatility(S,K,T,r,observed_price,opt):\n",
        "    high=5\n",
        "    low=0\n",
        "    if(opt==1):\n",
        "        while high-low>0.0001:\n",
        "            if black_scholes_call(S, K, T, r, (high+low)/2)>observed_price:\n",
        "                high=(high+low)/2\n",
        "            else:\n",
        "                low=(high+low)/2\n",
        "        return (high+low)/2\n",
        "\n",
        "    elif opt==-1:\n",
        "        while high-low>0.0001:\n",
        "            if black_scholes_put(S, K, T, r, (high+low)/2)>observed_price:\n",
        "                high=(high+low)/2\n",
        "                print(high)\n",
        "            else:\n",
        "                low=(high+low)/2\n",
        "                print(low)\n",
        "        return (high+low)/2\n",
        "\n",
        "\n",
        "implied_volatility(15325,15350,3.08,0,143,1)"
      ]
    }
  ]
}